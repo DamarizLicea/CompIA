{
  "nbformat": 4,
  "nbformat_minor": 0,
  "metadata": {
    "colab": {
      "provenance": [],
      "gpuType": "T4"
    },
    "kernelspec": {
      "name": "python3",
      "display_name": "Python 3"
    },
    "language_info": {
      "name": "python"
    },
    "accelerator": "GPU"
  },
  "cells": [
    {
      "cell_type": "code",
      "source": [
        "from google.colab import drive\n",
        "drive.mount('/content/drive')"
      ],
      "metadata": {
        "colab": {
          "base_uri": "https://localhost:8080/"
        },
        "id": "9Oa92zwfX49l",
        "outputId": "b805f5d4-c064-4f1c-c24a-5079ec70ad95"
      },
      "execution_count": null,
      "outputs": [
        {
          "output_type": "stream",
          "name": "stdout",
          "text": [
            "Mounted at /content/drive\n"
          ]
        }
      ]
    },
    {
      "cell_type": "code",
      "source": [
        "%cd \"/content/drive/MyDrive/news\""
      ],
      "metadata": {
        "colab": {
          "base_uri": "https://localhost:8080/"
        },
        "id": "O5W7BoRlX_D8",
        "outputId": "30db6ce0-a9cf-4ecb-9e44-9864523f46fe"
      },
      "execution_count": null,
      "outputs": [
        {
          "output_type": "stream",
          "name": "stdout",
          "text": [
            "/content/drive/MyDrive/news\n"
          ]
        }
      ]
    },
    {
      "cell_type": "code",
      "source": [
        "# Para cargar datos y manipularlos\n",
        "import pandas as pd\n",
        "import numpy as np\n",
        "import json\n",
        "import os\n",
        "import re\n",
        "import string\n",
        "import random\n",
        "\n",
        "# Para el modelo\n",
        "import tensorflow as tf\n",
        "from tensorflow.keras.preprocessing.text import Tokenizer\n",
        "from tensorflow.keras.preprocessing.sequence import pad_sequences\n",
        "from tensorflow.keras.models import Sequential, load_model\n",
        "from tensorflow.keras.layers import Embedding, Conv1D, GlobalMaxPooling1D, Dense, Dropout\n",
        "from tensorflow.keras.callbacks import EarlyStopping, ModelCheckpoint\n",
        "\n",
        "# Para EDA (augmentar texto)\n",
        "import nltk\n",
        "from nltk.corpus import wordnet\n",
        "\n",
        "# Para dividir datos y matriz\n",
        "from sklearn.model_selection import train_test_split\n",
        "from sklearn.metrics import confusion_matrix, classification_report\n",
        "\n",
        "# Para visualizar\n",
        "import matplotlib.pyplot as plt\n",
        "import seaborn as sns\n",
        "\n",
        "# wordnet\n",
        "!pip install nltk\n",
        "import nltk\n",
        "nltk.download('wordnet')\n",
        "nltk.download('omw-1.4')\n",
        "nltk.download('punkt')"
      ],
      "metadata": {
        "colab": {
          "base_uri": "https://localhost:8080/"
        },
        "id": "rkKKS0XyszMU",
        "outputId": "fe486926-7dd6-480e-883d-09c2c1788201"
      },
      "execution_count": null,
      "outputs": [
        {
          "output_type": "stream",
          "name": "stdout",
          "text": [
            "Requirement already satisfied: nltk in /usr/local/lib/python3.11/dist-packages (3.9.1)\n",
            "Requirement already satisfied: click in /usr/local/lib/python3.11/dist-packages (from nltk) (8.1.8)\n",
            "Requirement already satisfied: joblib in /usr/local/lib/python3.11/dist-packages (from nltk) (1.4.2)\n",
            "Requirement already satisfied: regex>=2021.8.3 in /usr/local/lib/python3.11/dist-packages (from nltk) (2024.11.6)\n",
            "Requirement already satisfied: tqdm in /usr/local/lib/python3.11/dist-packages (from nltk) (4.67.1)\n"
          ]
        },
        {
          "output_type": "stream",
          "name": "stderr",
          "text": [
            "[nltk_data] Downloading package wordnet to /root/nltk_data...\n",
            "[nltk_data] Downloading package omw-1.4 to /root/nltk_data...\n",
            "[nltk_data] Downloading package punkt to /root/nltk_data...\n",
            "[nltk_data]   Unzipping tokenizers/punkt.zip.\n"
          ]
        },
        {
          "output_type": "execute_result",
          "data": {
            "text/plain": [
              "True"
            ]
          },
          "metadata": {},
          "execution_count": 3
        }
      ]
    },
    {
      "cell_type": "code",
      "source": [
        "tf.random.set_seed(42)\n",
        "np.random.seed(42)"
      ],
      "metadata": {
        "id": "7BhfnV6uYPTM"
      },
      "execution_count": null,
      "outputs": []
    },
    {
      "cell_type": "code",
      "source": [
        "# Use gpu\n",
        "gpu = len(tf.config.list_physical_devices('GPU'))>0\n",
        "print(\"GPU is\", \"available\" if gpu else \"NOT AVAILABLE\")\n",
        "\n",
        "try:\n",
        "    device_name = tf.test.gpu_device_name()\n",
        "    if device_name != '/device:GPU:0':\n",
        "        raise SystemError('GPU device not found')\n",
        "    print('Found GPU at: {}'.format(device_name))\n",
        "\n",
        "except  SystemError as e:\n",
        "    print(e)"
      ],
      "metadata": {
        "colab": {
          "base_uri": "https://localhost:8080/"
        },
        "id": "XmFJ-wlXYYd8",
        "outputId": "1641523e-be9d-4c66-9a09-f4d643b07bd6"
      },
      "execution_count": null,
      "outputs": [
        {
          "output_type": "stream",
          "name": "stdout",
          "text": [
            "GPU is NOT AVAILABLE\n",
            "GPU device not found\n"
          ]
        }
      ]
    },
    {
      "cell_type": "code",
      "source": [
        "\n",
        "with open(\"/content/drive/MyDrive/news/News_Category_Dataset_v3.json\", \"r\") as f:\n",
        "    data = [json.loads(line) for line in f]\n",
        "\n",
        "df = pd.DataFrame(data)\n",
        "# Obtener por cada linea, titulares y categorias\n",
        "df = df[['headline', 'category']].dropna()\n",
        "\n",
        "\n",
        "# Mapear categorias a indices\n",
        "categories = df['category'].unique()\n",
        "cat_to_index = {cat: idx for idx, cat in enumerate(categories)}\n",
        "df['label'] = df['category'].map(cat_to_index)\n",
        "\n",
        "# A minusculas, sin signos y espaciado normal, se aplica en los titulares\n",
        "def clean_text(text):\n",
        "    text = text.lower()\n",
        "    text = re.sub(f\"[{re.escape(string.punctuation)}]\", \"\", text)\n",
        "    text = re.sub(r\"\\s+\", \" \", text).strip()\n",
        "    return text\n",
        "\n",
        "df['headline'] = df['headline'].apply(clean_text)"
      ],
      "metadata": {
        "id": "e0hfttNQs3Kv"
      },
      "execution_count": null,
      "outputs": []
    },
    {
      "cell_type": "code",
      "source": [
        "# EDA - Easy Data Augmentation\n",
        "# Wei, J., & Zou, K. (2019). EDA: Easy Data Augmentation Techniques for Boosting Performance on Text Classification Tasks.\n",
        "# Workshop paper presented at the International Conference on Learning Representations (ICLR) 2019. arXiv:1901.11196.\n",
        "# usa wordnet (large lexical database of English) para buscar los sinonimos de n numero de palabras, y cambiarlas.\n",
        "# Generas una lista de palabras (n largo) a reemplazar, y entonces buscas en wordnet el sinonimo\n",
        "def synonym_replacement(words, n):\n",
        "    new_words = words.copy()\n",
        "    random_word_list = list(set([word for word in words if wordnet.synsets(word)]))\n",
        "    random.shuffle(random_word_list)\n",
        "    num_replaced = 0\n",
        "    for random_word in random_word_list:\n",
        "        synonyms = wordnet.synsets(random_word)\n",
        "        if synonyms:\n",
        "            synonym = synonyms[0].lemmas()[0].name()\n",
        "            new_words = [synonym if word == random_word else word for word in new_words]\n",
        "            num_replaced += 1\n",
        "        if num_replaced >= n:\n",
        "            break\n",
        "    return new_words\n",
        "\n",
        "def eda(text, alpha_sr=0.1):\n",
        "    words = text.split()\n",
        "    num_words = len(words)\n",
        "    n_sr = max(1, int(alpha_sr * num_words))\n",
        "    augs = synonym_replacement(words, n_sr)\n",
        "    return ' '.join(augs)\n",
        "\n",
        "# Data augmentation\n",
        "augmented_texts = []\n",
        "augmented_labels = []\n",
        "for text, label in zip(df['headline'], df['label']):\n",
        "    augmented_texts.append(text)\n",
        "    augmented_labels.append(label)\n",
        "    augmented_texts.append(eda(text))\n",
        "    augmented_labels.append(label)\n",
        "\n",
        "df_aug = pd.DataFrame({'headline': augmented_texts, 'label': augmented_labels})"
      ],
      "metadata": {
        "id": "XhVzQP3atpFs"
      },
      "execution_count": null,
      "outputs": []
    },
    {
      "cell_type": "code",
      "source": [
        "# División del dataset (80/20 train-test y luego 80/20 de train-val)\n",
        "X_trainval, X_test, y_trainval, y_test = train_test_split(\n",
        "    df_aug['headline'], df_aug['label'], test_size=0.2, stratify=df_aug['label'], random_state=42)\n",
        "X_train, X_val, y_train, y_val = train_test_split(\n",
        "    X_trainval, y_trainval, test_size=0.2, stratify=y_trainval, random_state=42)\n",
        "\n",
        "# Tokenización y padding\n",
        "vocab_size = 10000\n",
        "maxlen = 30\n",
        "#Tokenizador de las 10 mil palabras mas frecuentes o le sale out of vocab\n",
        "tokenizer = Tokenizer(num_words=vocab_size, oov_token=\"<OOV>\")\n",
        "tokenizer.fit_on_texts(X_train)\n",
        "# Que todas las \"palabras\" salgan del mismo largo, porque sino es mas dificil procesarlas\n",
        "X_train_seq = pad_sequences(tokenizer.texts_to_sequences(X_train), maxlen=maxlen)\n",
        "X_val_seq = pad_sequences(tokenizer.texts_to_sequences(X_val), maxlen=maxlen)\n",
        "X_test_seq = pad_sequences(tokenizer.texts_to_sequences(X_test), maxlen=maxlen)\n"
      ],
      "metadata": {
        "id": "c1gpfnTbtuKb"
      },
      "execution_count": null,
      "outputs": []
    },
    {
      "cell_type": "code",
      "source": [
        "# Early stopping (sin mejora mejor le cortas) y Checkpoint con el mejor modelo.\n",
        "early_stop = EarlyStopping(monitor='val_loss', patience=3, restore_best_weights=True)\n",
        "checkpoint_path = \"/content/drive/MyDrive/news/best_model.keras\"\n",
        "checkpoint = ModelCheckpoint(checkpoint_path, monitor='val_accuracy', save_best_only=True)\n",
        "# Cargar el modelo si ya existe\n",
        "if os.path.exists(checkpoint_path):\n",
        "    model = load_model(checkpoint_path)\n",
        "    print(\"Modelo cargado desde archivo.\")\n",
        "else:\n",
        "    # \"Convolutional Neural Networks for Sentence Classification\" Yoon Kim, 2014 Disponible en: https://arxiv.org/abs/1408.5882\n",
        "    # Si veo estas 5 palabras (numeros) juntas, probablemente es una noticia de política\n",
        "    # Las palabras con significados similares tendrán vectores cercanos entre sí\n",
        "    model = Sequential([\n",
        "        Embedding(input_dim=vocab_size, output_dim=128, input_length=maxlen),\n",
        "        Conv1D(128, 5, activation='relu'),\n",
        "        GlobalMaxPooling1D(),\n",
        "        Dropout(0.5),\n",
        "        Dense(128, activation='relu'),\n",
        "        Dense(len(categories), activation='softmax')\n",
        "    ])\n",
        "\n",
        "    model.compile(loss='sparse_categorical_crossentropy', optimizer='adam', metrics=['accuracy'])\n",
        "\n",
        "# Entrenamiento\n",
        "    history = model.fit(X_train_seq, y_train, validation_data=(X_val_seq, y_val), epochs=5, batch_size=32)\n"
      ],
      "metadata": {
        "colab": {
          "base_uri": "https://localhost:8080/"
        },
        "id": "fFwDIC_EtzZb",
        "outputId": "3e883ee9-a4df-4c3f-81d5-10f5e2fe1c00"
      },
      "execution_count": null,
      "outputs": [
        {
          "output_type": "stream",
          "name": "stdout",
          "text": [
            "Epoch 1/50\n",
            "\u001b[1m8382/8382\u001b[0m \u001b[32m━━━━━━━━━━━━━━━━━━━━\u001b[0m\u001b[37m\u001b[0m \u001b[1m281s\u001b[0m 33ms/step - accuracy: 0.3976 - loss: 2.3739 - val_accuracy: 0.5684 - val_loss: 1.5913\n",
            "Epoch 2/50\n",
            "\u001b[1m8382/8382\u001b[0m \u001b[32m━━━━━━━━━━━━━━━━━━━━\u001b[0m\u001b[37m\u001b[0m \u001b[1m274s\u001b[0m 27ms/step - accuracy: 0.5552 - loss: 1.6419 - val_accuracy: 0.5894 - val_loss: 1.4914\n",
            "Epoch 3/50\n",
            "\u001b[1m8382/8382\u001b[0m \u001b[32m━━━━━━━━━━━━━━━━━━━━\u001b[0m\u001b[37m\u001b[0m \u001b[1m236s\u001b[0m 28ms/step - accuracy: 0.5872 - loss: 1.4853 - val_accuracy: 0.6060 - val_loss: 1.4332\n",
            "Epoch 4/50\n",
            "\u001b[1m8382/8382\u001b[0m \u001b[32m━━━━━━━━━━━━━━━━━━━━\u001b[0m\u001b[37m\u001b[0m \u001b[1m255s\u001b[0m 27ms/step - accuracy: 0.6135 - loss: 1.3820 - val_accuracy: 0.6140 - val_loss: 1.3963\n",
            "Epoch 5/50\n",
            "\u001b[1m8382/8382\u001b[0m \u001b[32m━━━━━━━━━━━━━━━━━━━━\u001b[0m\u001b[37m\u001b[0m \u001b[1m264s\u001b[0m 28ms/step - accuracy: 0.6339 - loss: 1.3008 - val_accuracy: 0.6231 - val_loss: 1.3686\n",
            "Epoch 6/50\n",
            "\u001b[1m8382/8382\u001b[0m \u001b[32m━━━━━━━━━━━━━━━━━━━━\u001b[0m\u001b[37m\u001b[0m \u001b[1m269s\u001b[0m 28ms/step - accuracy: 0.6493 - loss: 1.2317 - val_accuracy: 0.6315 - val_loss: 1.3526\n",
            "Epoch 7/50\n",
            "\u001b[1m8382/8382\u001b[0m \u001b[32m━━━━━━━━━━━━━━━━━━━━\u001b[0m\u001b[37m\u001b[0m \u001b[1m260s\u001b[0m 28ms/step - accuracy: 0.6635 - loss: 1.1800 - val_accuracy: 0.6384 - val_loss: 1.3331\n",
            "Epoch 8/50\n",
            "\u001b[1m8382/8382\u001b[0m \u001b[32m━━━━━━━━━━━━━━━━━━━━\u001b[0m\u001b[37m\u001b[0m \u001b[1m263s\u001b[0m 28ms/step - accuracy: 0.6761 - loss: 1.1326 - val_accuracy: 0.6422 - val_loss: 1.3304\n",
            "Epoch 9/50\n",
            "\u001b[1m8382/8382\u001b[0m \u001b[32m━━━━━━━━━━━━━━━━━━━━\u001b[0m\u001b[37m\u001b[0m \u001b[1m257s\u001b[0m 28ms/step - accuracy: 0.6888 - loss: 1.0888 - val_accuracy: 0.6475 - val_loss: 1.3168\n",
            "Epoch 10/50\n",
            "\u001b[1m8382/8382\u001b[0m \u001b[32m━━━━━━━━━━━━━━━━━━━━\u001b[0m\u001b[37m\u001b[0m \u001b[1m269s\u001b[0m 28ms/step - accuracy: 0.6962 - loss: 1.0563 - val_accuracy: 0.6531 - val_loss: 1.3069\n",
            "Epoch 11/50\n",
            "\u001b[1m8382/8382\u001b[0m \u001b[32m━━━━━━━━━━━━━━━━━━━━\u001b[0m\u001b[37m\u001b[0m \u001b[1m263s\u001b[0m 29ms/step - accuracy: 0.7034 - loss: 1.0278 - val_accuracy: 0.6586 - val_loss: 1.3006\n",
            "Epoch 12/50\n",
            "\u001b[1m8382/8382\u001b[0m \u001b[32m━━━━━━━━━━━━━━━━━━━━\u001b[0m\u001b[37m\u001b[0m \u001b[1m261s\u001b[0m 28ms/step - accuracy: 0.7125 - loss: 0.9918 - val_accuracy: 0.6608 - val_loss: 1.2968\n",
            "Epoch 13/50\n",
            "\u001b[1m8382/8382\u001b[0m \u001b[32m━━━━━━━━━━━━━━━━━━━━\u001b[0m\u001b[37m\u001b[0m \u001b[1m255s\u001b[0m 28ms/step - accuracy: 0.7205 - loss: 0.9719 - val_accuracy: 0.6642 - val_loss: 1.2967\n",
            "Epoch 14/50\n",
            "\u001b[1m8382/8382\u001b[0m \u001b[32m━━━━━━━━━━━━━━━━━━━━\u001b[0m\u001b[37m\u001b[0m \u001b[1m231s\u001b[0m 28ms/step - accuracy: 0.7251 - loss: 0.9470 - val_accuracy: 0.6674 - val_loss: 1.2948\n",
            "Epoch 15/50\n",
            "\u001b[1m8382/8382\u001b[0m \u001b[32m━━━━━━━━━━━━━━━━━━━━\u001b[0m\u001b[37m\u001b[0m \u001b[1m266s\u001b[0m 28ms/step - accuracy: 0.7328 - loss: 0.9261 - val_accuracy: 0.6699 - val_loss: 1.2943\n",
            "Epoch 16/50\n",
            "\u001b[1m8382/8382\u001b[0m \u001b[32m━━━━━━━━━━━━━━━━━━━━\u001b[0m\u001b[37m\u001b[0m \u001b[1m251s\u001b[0m 30ms/step - accuracy: 0.7378 - loss: 0.9072 - val_accuracy: 0.6731 - val_loss: 1.2903\n",
            "Epoch 17/50\n",
            "\u001b[1m8382/8382\u001b[0m \u001b[32m━━━━━━━━━━━━━━━━━━━━\u001b[0m\u001b[37m\u001b[0m \u001b[1m241s\u001b[0m 29ms/step - accuracy: 0.7429 - loss: 0.8869 - val_accuracy: 0.6749 - val_loss: 1.2897\n",
            "Epoch 18/50\n",
            "\u001b[1m8382/8382\u001b[0m \u001b[32m━━━━━━━━━━━━━━━━━━━━\u001b[0m\u001b[37m\u001b[0m \u001b[1m250s\u001b[0m 30ms/step - accuracy: 0.7463 - loss: 0.8728 - val_accuracy: 0.6796 - val_loss: 1.2859\n",
            "Epoch 19/50\n",
            "\u001b[1m8382/8382\u001b[0m \u001b[32m━━━━━━━━━━━━━━━━━━━━\u001b[0m\u001b[37m\u001b[0m \u001b[1m247s\u001b[0m 28ms/step - accuracy: 0.7519 - loss: 0.8544 - val_accuracy: 0.6832 - val_loss: 1.2830\n",
            "Epoch 20/50\n",
            "\u001b[1m8382/8382\u001b[0m \u001b[32m━━━━━━━━━━━━━━━━━━━━\u001b[0m\u001b[37m\u001b[0m \u001b[1m243s\u001b[0m 29ms/step - accuracy: 0.7570 - loss: 0.8396 - val_accuracy: 0.6819 - val_loss: 1.3005\n",
            "Epoch 21/50\n",
            "\u001b[1m8382/8382\u001b[0m \u001b[32m━━━━━━━━━━━━━━━━━━━━\u001b[0m\u001b[37m\u001b[0m \u001b[1m250s\u001b[0m 28ms/step - accuracy: 0.7601 - loss: 0.8273 - val_accuracy: 0.6849 - val_loss: 1.2904\n",
            "Epoch 22/50\n",
            "\u001b[1m8382/8382\u001b[0m \u001b[32m━━━━━━━━━━━━━━━━━━━━\u001b[0m\u001b[37m\u001b[0m \u001b[1m263s\u001b[0m 28ms/step - accuracy: 0.7634 - loss: 0.8137 - val_accuracy: 0.6874 - val_loss: 1.2959\n",
            "Epoch 23/50\n",
            "\u001b[1m8382/8382\u001b[0m \u001b[32m━━━━━━━━━━━━━━━━━━━━\u001b[0m\u001b[37m\u001b[0m \u001b[1m271s\u001b[0m 29ms/step - accuracy: 0.7662 - loss: 0.8063 - val_accuracy: 0.6878 - val_loss: 1.3073\n",
            "Epoch 24/50\n",
            "\u001b[1m8382/8382\u001b[0m \u001b[32m━━━━━━━━━━━━━━━━━━━━\u001b[0m\u001b[37m\u001b[0m \u001b[1m256s\u001b[0m 28ms/step - accuracy: 0.7705 - loss: 0.7909 - val_accuracy: 0.6919 - val_loss: 1.3028\n",
            "Epoch 25/50\n",
            "\u001b[1m8382/8382\u001b[0m \u001b[32m━━━━━━━━━━━━━━━━━━━━\u001b[0m\u001b[37m\u001b[0m \u001b[1m271s\u001b[0m 29ms/step - accuracy: 0.7733 - loss: 0.7784 - val_accuracy: 0.6935 - val_loss: 1.3025\n",
            "Epoch 26/50\n",
            "\u001b[1m8382/8382\u001b[0m \u001b[32m━━━━━━━━━━━━━━━━━━━━\u001b[0m\u001b[37m\u001b[0m \u001b[1m239s\u001b[0m 29ms/step - accuracy: 0.7752 - loss: 0.7750 - val_accuracy: 0.6935 - val_loss: 1.3048\n",
            "Epoch 27/50\n",
            "\u001b[1m8382/8382\u001b[0m \u001b[32m━━━━━━━━━━━━━━━━━━━━\u001b[0m\u001b[37m\u001b[0m \u001b[1m238s\u001b[0m 28ms/step - accuracy: 0.7796 - loss: 0.7611 - val_accuracy: 0.6936 - val_loss: 1.3070\n",
            "Epoch 28/50\n",
            "\u001b[1m8382/8382\u001b[0m \u001b[32m━━━━━━━━━━━━━━━━━━━━\u001b[0m\u001b[37m\u001b[0m \u001b[1m243s\u001b[0m 29ms/step - accuracy: 0.7809 - loss: 0.7545 - val_accuracy: 0.6960 - val_loss: 1.3073\n",
            "Epoch 29/50\n",
            "\u001b[1m8382/8382\u001b[0m \u001b[32m━━━━━━━━━━━━━━━━━━━━\u001b[0m\u001b[37m\u001b[0m \u001b[1m258s\u001b[0m 29ms/step - accuracy: 0.7835 - loss: 0.7456 - val_accuracy: 0.6949 - val_loss: 1.3071\n",
            "Epoch 30/50\n",
            "\u001b[1m8382/8382\u001b[0m \u001b[32m━━━━━━━━━━━━━━━━━━━━\u001b[0m\u001b[37m\u001b[0m \u001b[1m262s\u001b[0m 29ms/step - accuracy: 0.7867 - loss: 0.7359 - val_accuracy: 0.6980 - val_loss: 1.3163\n",
            "Epoch 31/50\n",
            "\u001b[1m8382/8382\u001b[0m \u001b[32m━━━━━━━━━━━━━━━━━━━━\u001b[0m\u001b[37m\u001b[0m \u001b[1m240s\u001b[0m 29ms/step - accuracy: 0.7876 - loss: 0.7317 - val_accuracy: 0.6977 - val_loss: 1.3255\n",
            "Epoch 32/50\n",
            "\u001b[1m8382/8382\u001b[0m \u001b[32m━━━━━━━━━━━━━━━━━━━━\u001b[0m\u001b[37m\u001b[0m \u001b[1m233s\u001b[0m 28ms/step - accuracy: 0.7902 - loss: 0.7251 - val_accuracy: 0.7019 - val_loss: 1.3243\n",
            "Epoch 33/50\n",
            "\u001b[1m8382/8382\u001b[0m \u001b[32m━━━━━━━━━━━━━━━━━━━━\u001b[0m\u001b[37m\u001b[0m \u001b[1m270s\u001b[0m 29ms/step - accuracy: 0.7931 - loss: 0.7140 - val_accuracy: 0.7012 - val_loss: 1.3242\n",
            "Epoch 34/50\n",
            "\u001b[1m8382/8382\u001b[0m \u001b[32m━━━━━━━━━━━━━━━━━━━━\u001b[0m\u001b[37m\u001b[0m \u001b[1m260s\u001b[0m 29ms/step - accuracy: 0.7961 - loss: 0.7033 - val_accuracy: 0.7035 - val_loss: 1.3247\n",
            "Epoch 35/50\n",
            "\u001b[1m8382/8382\u001b[0m \u001b[32m━━━━━━━━━━━━━━━━━━━━\u001b[0m\u001b[37m\u001b[0m \u001b[1m269s\u001b[0m 29ms/step - accuracy: 0.7962 - loss: 0.7030 - val_accuracy: 0.7025 - val_loss: 1.3289\n",
            "Epoch 36/50\n",
            "\u001b[1m8382/8382\u001b[0m \u001b[32m━━━━━━━━━━━━━━━━━━━━\u001b[0m\u001b[37m\u001b[0m \u001b[1m251s\u001b[0m 28ms/step - accuracy: 0.7993 - loss: 0.6930 - val_accuracy: 0.7045 - val_loss: 1.3288\n",
            "Epoch 37/50\n",
            "\u001b[1m8382/8382\u001b[0m \u001b[32m━━━━━━━━━━━━━━━━━━━━\u001b[0m\u001b[37m\u001b[0m \u001b[1m270s\u001b[0m 29ms/step - accuracy: 0.7995 - loss: 0.6923 - val_accuracy: 0.7039 - val_loss: 1.3286\n",
            "Epoch 38/50\n",
            "\u001b[1m8382/8382\u001b[0m \u001b[32m━━━━━━━━━━━━━━━━━━━━\u001b[0m\u001b[37m\u001b[0m \u001b[1m257s\u001b[0m 28ms/step - accuracy: 0.8029 - loss: 0.6772 - val_accuracy: 0.7068 - val_loss: 1.3470\n",
            "Epoch 39/50\n",
            "\u001b[1m8382/8382\u001b[0m \u001b[32m━━━━━━━━━━━━━━━━━━━━\u001b[0m\u001b[37m\u001b[0m \u001b[1m272s\u001b[0m 30ms/step - accuracy: 0.8027 - loss: 0.6797 - val_accuracy: 0.7055 - val_loss: 1.3452\n",
            "Epoch 40/50\n",
            "\u001b[1m8382/8382\u001b[0m \u001b[32m━━━━━━━━━━━━━━━━━━━━\u001b[0m\u001b[37m\u001b[0m \u001b[1m237s\u001b[0m 28ms/step - accuracy: 0.8052 - loss: 0.6722 - val_accuracy: 0.7072 - val_loss: 1.3571\n",
            "Epoch 41/50\n",
            "\u001b[1m8382/8382\u001b[0m \u001b[32m━━━━━━━━━━━━━━━━━━━━\u001b[0m\u001b[37m\u001b[0m \u001b[1m270s\u001b[0m 29ms/step - accuracy: 0.8069 - loss: 0.6661 - val_accuracy: 0.7062 - val_loss: 1.3417\n",
            "Epoch 42/50\n",
            "\u001b[1m8382/8382\u001b[0m \u001b[32m━━━━━━━━━━━━━━━━━━━━\u001b[0m\u001b[37m\u001b[0m \u001b[1m256s\u001b[0m 29ms/step - accuracy: 0.8082 - loss: 0.6644 - val_accuracy: 0.7074 - val_loss: 1.3550\n",
            "Epoch 43/50\n",
            "\u001b[1m8382/8382\u001b[0m \u001b[32m━━━━━━━━━━━━━━━━━━━━\u001b[0m\u001b[37m\u001b[0m \u001b[1m264s\u001b[0m 29ms/step - accuracy: 0.8097 - loss: 0.6557 - val_accuracy: 0.7058 - val_loss: 1.3716\n",
            "Epoch 44/50\n",
            "\u001b[1m8382/8382\u001b[0m \u001b[32m━━━━━━━━━━━━━━━━━━━━\u001b[0m\u001b[37m\u001b[0m \u001b[1m251s\u001b[0m 30ms/step - accuracy: 0.8094 - loss: 0.6573 - val_accuracy: 0.7085 - val_loss: 1.3688\n",
            "Epoch 45/50\n",
            "\u001b[1m8382/8382\u001b[0m \u001b[32m━━━━━━━━━━━━━━━━━━━━\u001b[0m\u001b[37m\u001b[0m \u001b[1m242s\u001b[0m 29ms/step - accuracy: 0.8128 - loss: 0.6485 - val_accuracy: 0.7073 - val_loss: 1.3735\n",
            "Epoch 46/50\n",
            "\u001b[1m8382/8382\u001b[0m \u001b[32m━━━━━━━━━━━━━━━━━━━━\u001b[0m\u001b[37m\u001b[0m \u001b[1m246s\u001b[0m 29ms/step - accuracy: 0.8130 - loss: 0.6475 - val_accuracy: 0.7121 - val_loss: 1.3619\n",
            "Epoch 47/50\n",
            "\u001b[1m8382/8382\u001b[0m \u001b[32m━━━━━━━━━━━━━━━━━━━━\u001b[0m\u001b[37m\u001b[0m \u001b[1m233s\u001b[0m 28ms/step - accuracy: 0.8141 - loss: 0.6427 - val_accuracy: 0.7104 - val_loss: 1.3683\n",
            "Epoch 48/50\n",
            "\u001b[1m8382/8382\u001b[0m \u001b[32m━━━━━━━━━━━━━━━━━━━━\u001b[0m\u001b[37m\u001b[0m \u001b[1m273s\u001b[0m 29ms/step - accuracy: 0.8157 - loss: 0.6379 - val_accuracy: 0.7105 - val_loss: 1.3728\n",
            "Epoch 49/50\n",
            "\u001b[1m8382/8382\u001b[0m \u001b[32m━━━━━━━━━━━━━━━━━━━━\u001b[0m\u001b[37m\u001b[0m \u001b[1m259s\u001b[0m 29ms/step - accuracy: 0.8157 - loss: 0.6357 - val_accuracy: 0.7117 - val_loss: 1.3778\n",
            "Epoch 50/50\n",
            "\u001b[1m8382/8382\u001b[0m \u001b[32m━━━━━━━━━━━━━━━━━━━━\u001b[0m\u001b[37m\u001b[0m \u001b[1m261s\u001b[0m 29ms/step - accuracy: 0.8178 - loss: 0.6313 - val_accuracy: 0.7110 - val_loss: 1.3875\n"
          ]
        }
      ]
    },
    {
      "cell_type": "code",
      "source": [
        "# Accuracy vs loss\n",
        "if 'history' in locals():\n",
        "    plt.figure(figsize=(12, 4))\n",
        "    plt.subplot(1, 2, 1)\n",
        "    plt.plot(history.history['accuracy'], label='Entrenamiento')\n",
        "    plt.plot(history.history['val_accuracy'], label='Validación')\n",
        "    plt.title('Precisión')\n",
        "    plt.legend()\n",
        "    plt.subplot(1, 2, 2)\n",
        "    plt.plot(history.history['loss'], label='Entrenamiento')\n",
        "    plt.plot(history.history['val_loss'], label='Validación')\n",
        "    plt.title('Pérdida')\n",
        "    plt.legend()\n",
        "    plt.show()\n"
      ],
      "metadata": {
        "colab": {
          "base_uri": "https://localhost:8080/"
        },
        "id": "kcrr9H7Ft2-D",
        "outputId": "c3a51579-3e27-4bcc-9590-53fab19b72fd"
      },
      "execution_count": null,
      "outputs": [
        {
          "output_type": "display_data",
          "data": {
            "text/plain": [
              "<Figure size 1200x400 with 2 Axes>"
            ],
            "image/png": "[encoded data removed]"
          },
          "metadata": {}
        }
      ]
    },
    {
      "cell_type": "code",
      "source": [
        "#Matriz de confuion de ssklearn\n",
        "preds = model.predict(X_test_seq)\n",
        "y_pred = np.argmax(preds, axis=1)\n",
        "cm = confusion_matrix(y_test, y_pred)\n",
        "\n",
        "plt.figure(figsize=(10, 8))\n",
        "sns.heatmap(cm, annot=False, cmap='Blues')\n",
        "plt.title(\"Matriz de Confusión\")\n",
        "plt.xlabel(\"Predicción\")\n",
        "plt.ylabel(\"Real\")\n",
        "plt.show()\n",
        "\n",
        "print(classification_report(y_test, y_pred, target_names=categories))\n",
        "\n",
        "# Resumen de TP,TN,FP,FN\n",
        "def simple_confusion(matrix):\n",
        "    correctas = sum(matrix[i][i] for i in range(len(matrix)))\n",
        "    total = sum(sum(row) for row in matrix)\n",
        "    incorrectas = total - correctas\n",
        "    print(\"\\nResumen de Clasificación:\")\n",
        "    print(f\"Aciertos (Correctos): {correctas}\")\n",
        "    print(f\"Errores (Incorrectos): {incorrectas}\")\n",
        "    print(f\"Precisión global: {correctas / total:.2%}\")\n",
        "\n",
        "def resumen_tp_fp_fn_tn(matrix):\n",
        "    num_classes = len(matrix)\n",
        "    print(\"\\nMatriz TP/FP/FN/TN por clase:\")\n",
        "    for i in range(num_classes):\n",
        "        TP = matrix[i][i]\n",
        "        FN = sum(matrix[i]) - TP\n",
        "        FP = sum(matrix[j][i] for j in range(num_classes)) - TP\n",
        "        TN = sum(sum(matrix[j]) for j in range(num_classes)) - (TP + FP + FN)\n",
        "        print(f\"Clase {i} -> TP: {TP}, FP: {FP}, FN: {FN}, TN: {TN}\")\n",
        "\n",
        "simple_confusion(cm)\n",
        "resumen_tp_fp_fn_tn(cm)"
      ],
      "metadata": {
        "colab": {
          "base_uri": "https://localhost:8080/",
          "height": 218
        },
        "id": "H-_XjCrrt-qe",
        "outputId": "ca0d4268-74ca-4976-a351-f97470a20fc8",
        "collapsed": true
      },
      "execution_count": 1,
      "outputs": [
        {
          "output_type": "error",
          "ename": "NameError",
          "evalue": "name 'model' is not defined",
          "traceback": [
            "\u001b[0;31m---------------------------------------------------------------------------\u001b[0m",
            "\u001b[0;31mNameError\u001b[0m                                 Traceback (most recent call last)",
            "\u001b[0;32m<ipython-input-1-f9ec425b7750>\u001b[0m in \u001b[0;36m<cell line: 0>\u001b[0;34m()\u001b[0m\n\u001b[1;32m      1\u001b[0m \u001b[0;31m#Matriz de confuion de ssklearn\u001b[0m\u001b[0;34m\u001b[0m\u001b[0;34m\u001b[0m\u001b[0m\n\u001b[0;32m----> 2\u001b[0;31m \u001b[0mpreds\u001b[0m \u001b[0;34m=\u001b[0m \u001b[0mmodel\u001b[0m\u001b[0;34m.\u001b[0m\u001b[0mpredict\u001b[0m\u001b[0;34m(\u001b[0m\u001b[0mX_test_seq\u001b[0m\u001b[0;34m)\u001b[0m\u001b[0;34m\u001b[0m\u001b[0;34m\u001b[0m\u001b[0m\n\u001b[0m\u001b[1;32m      3\u001b[0m \u001b[0my_pred\u001b[0m \u001b[0;34m=\u001b[0m \u001b[0mnp\u001b[0m\u001b[0;34m.\u001b[0m\u001b[0margmax\u001b[0m\u001b[0;34m(\u001b[0m\u001b[0mpreds\u001b[0m\u001b[0;34m,\u001b[0m \u001b[0maxis\u001b[0m\u001b[0;34m=\u001b[0m\u001b[0;36m1\u001b[0m\u001b[0;34m)\u001b[0m\u001b[0;34m\u001b[0m\u001b[0;34m\u001b[0m\u001b[0m\n\u001b[1;32m      4\u001b[0m \u001b[0mcm\u001b[0m \u001b[0;34m=\u001b[0m \u001b[0mconfusion_matrix\u001b[0m\u001b[0;34m(\u001b[0m\u001b[0my_test\u001b[0m\u001b[0;34m,\u001b[0m \u001b[0my_pred\u001b[0m\u001b[0;34m)\u001b[0m\u001b[0;34m\u001b[0m\u001b[0;34m\u001b[0m\u001b[0m\n\u001b[1;32m      5\u001b[0m \u001b[0;34m\u001b[0m\u001b[0m\n",
            "\u001b[0;31mNameError\u001b[0m: name 'model' is not defined"
          ]
        }
      ]
    },
    {
      "cell_type": "code",
      "source": [
        "# Prueba para benji\n",
        "def predict_news(text):\n",
        "    cleaned = clean_text(text)\n",
        "    seq = tokenizer.texts_to_sequences([cleaned])\n",
        "    pad_seq = pad_sequences(seq, maxlen=maxlen)\n",
        "    pred = model.predict(pad_seq)[0]\n",
        "    category = categories[np.argmax(pred)]\n",
        "    confidence = np.max(pred)\n",
        "    print(f\"Predicción: {category} ({confidence*100:.2f}%)\")\n",
        "\n",
        "# Uso:\n",
        "predict_news(\"Korean beauty company causes acne\")\n"
      ],
      "metadata": {
        "colab": {
          "base_uri": "https://localhost:8080/",
          "height": 308
        },
        "id": "RHZ7nYCHuIgH",
        "outputId": "0fafbad9-07d0-4e1b-ad2f-fb1a11c55fb6",
        "collapsed": true
      },
      "execution_count": 2,
      "outputs": [
        {
          "output_type": "error",
          "ename": "NameError",
          "evalue": "name 'clean_text' is not defined",
          "traceback": [
            "\u001b[0;31m---------------------------------------------------------------------------\u001b[0m",
            "\u001b[0;31mNameError\u001b[0m                                 Traceback (most recent call last)",
            "\u001b[0;32m<ipython-input-2-9c3cb0105283>\u001b[0m in \u001b[0;36m<cell line: 0>\u001b[0;34m()\u001b[0m\n\u001b[1;32m     10\u001b[0m \u001b[0;34m\u001b[0m\u001b[0m\n\u001b[1;32m     11\u001b[0m \u001b[0;31m# Uso:\u001b[0m\u001b[0;34m\u001b[0m\u001b[0;34m\u001b[0m\u001b[0m\n\u001b[0;32m---> 12\u001b[0;31m \u001b[0mpredict_news\u001b[0m\u001b[0;34m(\u001b[0m\u001b[0;34m\"Korean beauty company causes acne\"\u001b[0m\u001b[0;34m)\u001b[0m\u001b[0;34m\u001b[0m\u001b[0;34m\u001b[0m\u001b[0m\n\u001b[0m",
            "\u001b[0;32m<ipython-input-2-9c3cb0105283>\u001b[0m in \u001b[0;36mpredict_news\u001b[0;34m(text)\u001b[0m\n\u001b[1;32m      1\u001b[0m \u001b[0;31m# Prueba para benji\u001b[0m\u001b[0;34m\u001b[0m\u001b[0;34m\u001b[0m\u001b[0m\n\u001b[1;32m      2\u001b[0m \u001b[0;32mdef\u001b[0m \u001b[0mpredict_news\u001b[0m\u001b[0;34m(\u001b[0m\u001b[0mtext\u001b[0m\u001b[0;34m)\u001b[0m\u001b[0;34m:\u001b[0m\u001b[0;34m\u001b[0m\u001b[0;34m\u001b[0m\u001b[0m\n\u001b[0;32m----> 3\u001b[0;31m     \u001b[0mcleaned\u001b[0m \u001b[0;34m=\u001b[0m \u001b[0mclean_text\u001b[0m\u001b[0;34m(\u001b[0m\u001b[0mtext\u001b[0m\u001b[0;34m)\u001b[0m\u001b[0;34m\u001b[0m\u001b[0;34m\u001b[0m\u001b[0m\n\u001b[0m\u001b[1;32m      4\u001b[0m     \u001b[0mseq\u001b[0m \u001b[0;34m=\u001b[0m \u001b[0mtokenizer\u001b[0m\u001b[0;34m.\u001b[0m\u001b[0mtexts_to_sequences\u001b[0m\u001b[0;34m(\u001b[0m\u001b[0;34m[\u001b[0m\u001b[0mcleaned\u001b[0m\u001b[0;34m]\u001b[0m\u001b[0;34m)\u001b[0m\u001b[0;34m\u001b[0m\u001b[0;34m\u001b[0m\u001b[0m\n\u001b[1;32m      5\u001b[0m     \u001b[0mpad_seq\u001b[0m \u001b[0;34m=\u001b[0m \u001b[0mpad_sequences\u001b[0m\u001b[0;34m(\u001b[0m\u001b[0mseq\u001b[0m\u001b[0;34m,\u001b[0m \u001b[0mmaxlen\u001b[0m\u001b[0;34m=\u001b[0m\u001b[0mmaxlen\u001b[0m\u001b[0;34m)\u001b[0m\u001b[0;34m\u001b[0m\u001b[0;34m\u001b[0m\u001b[0m\n",
            "\u001b[0;31mNameError\u001b[0m: name 'clean_text' is not defined"
          ]
        }
      ]
    }
  ]
}